{
 "cells": [
  {
   "cell_type": "code",
   "execution_count": 2,
   "metadata": {},
   "outputs": [],
   "source": [
    "from binance import Client, ThreadedWebsocketManager, ThreadedDepthCacheManager\n",
    "import pandas as pd\n",
    "import numpy as np\n",
    "import matplotlib.pyplot as plt\n",
    "\n",
    "apikey = 'P6292qJXnqQ8OnoVTGmrQTOeL7ITxPadzp2Kmn8voLDgf8hUjUZAOll3jqWNaYQg'\n",
    "apisecret = 'vOXpLeLba3YT1XmN5VFFLARoqDSowLTSatKVfBNLvbXX0EClqZ7EYyBjx3VJKJrX'\n",
    "\n",
    "#Performing authentication\n",
    "client = Client(apikey, apisecret)"
   ]
  },
  {
   "cell_type": "code",
   "execution_count": 3,
   "metadata": {},
   "outputs": [
    {
     "data": {
      "text/plain": [
       "symbol                        object\n",
       "status                        object\n",
       "baseAsset                     object\n",
       "baseAssetPrecision             int64\n",
       "quoteAsset                    object\n",
       "quotePrecision                 int64\n",
       "quoteAssetPrecision            int64\n",
       "baseCommissionPrecision        int64\n",
       "quoteCommissionPrecision       int64\n",
       "orderTypes                    object\n",
       "icebergAllowed                  bool\n",
       "ocoAllowed                      bool\n",
       "quoteOrderQtyMarketAllowed      bool\n",
       "allowTrailingStop               bool\n",
       "cancelReplaceAllowed            bool\n",
       "isSpotTradingAllowed            bool\n",
       "isMarginTradingAllowed          bool\n",
       "filters                       object\n",
       "permissions                   object\n",
       "dtype: object"
      ]
     },
     "execution_count": 3,
     "metadata": {},
     "output_type": "execute_result"
    }
   ],
   "source": [
    "quoteAssetCurrency = \"USDT\"\n",
    "\n",
    "#get symbols\n",
    "exchange_info = client.get_exchange_info()\n",
    "dfexchange_info_symbols = pd.DataFrame (exchange_info['symbols'])\n",
    "#dfexchange_info_symbols.head\n",
    "dfUSDT = dfexchange_info_symbols.loc[dfexchange_info_symbols ['quoteAsset'] == quoteAssetCurrency]\n",
    "dfUSDT.dtypes\n"
   ]
  },
  {
   "cell_type": "code",
   "execution_count": 4,
   "metadata": {},
   "outputs": [
    {
     "data": {
      "text/plain": [
       "1594144.8089785832"
      ]
     },
     "execution_count": 4,
     "metadata": {},
     "output_type": "execute_result"
    }
   ],
   "source": [
    "#for hd in dfUSDT['symbol']:\n",
    "BTCUSDT_historical_data = client.get_historical_klines('BTCUSDT', Client.KLINE_INTERVAL_1MONTH)\n",
    "df_BTCUSDT_historical_data = pd.DataFrame(BTCUSDT_historical_data)\n",
    "df_BTCUSDT_historical_data.columns = ['Open Time', 'Open', 'High', 'Low', 'Close', 'Volume', 'Close Time', 'Quote Asset Volume', \n",
    "                                      'Number of Trades', 'TB Base Volume', 'TB Quote Volume', 'Ignore']\n",
    "df_BTCUSDT_historical_data['Open Time'] = pd.to_datetime(df_BTCUSDT_historical_data['Open Time']/1000, unit='s')\n",
    "df_BTCUSDT_historical_data['Close Time'] = pd.to_datetime(df_BTCUSDT_historical_data['Close Time']/1000, unit='s')\n",
    "\n",
    "numeric_columns = ['Open', 'High', 'Low', 'Close', 'Volume', 'Quote Asset Volume', 'TB Base Volume', 'TB Quote Volume']\n",
    "#Conversion to numerical type\n",
    "df_BTCUSDT_historical_data[numeric_columns] = df_BTCUSDT_historical_data[numeric_columns].apply(pd.to_numeric, axis=1)\n",
    "#df_BTCUSDT_historical_data.mean(axis='index')\n",
    "BTCUSDT_Volume = df_BTCUSDT_historical_data['Volume'].mean(axis='index')\n",
    "BTCUSDT_Volume"
   ]
  },
  {
   "cell_type": "markdown",
   "metadata": {},
   "source": [
    "We build a new list containing the quote currency USDT"
   ]
  },
  {
   "cell_type": "code",
   "execution_count": 7,
   "metadata": {},
   "outputs": [],
   "source": [
    "#https://stackoverflow.com/questions/33907776/how-to-create-an-array-of-dataframes-in-python\n",
    "hf ={}#it is a list of dataframe\n",
    "Columuns = ['Open Time', 'Open', 'High', 'Low', 'Close', 'Volume', 'Close Time', 'Quote Asset Volume', \n",
    "            'Number of Trades', 'TB Base Volume', 'TB Quote Volume', 'Ignore']\n",
    "numeric_columns = ['Open', 'High', 'Low', 'Close', 'Volume', 'Quote Asset Volume', 'TB Base Volume', 'TB Quote Volume']\n",
    "for USDTsymbol in dfUSDT['symbol']:\n",
    "    tmp = client.get_historical_klines(USDTsymbol, Client.KLINE_INTERVAL_1MONTH, start_str = '29 June 2022', limit = 2)\n",
    "    df_tmp = pd.DataFrame(tmp)\n",
    "    if len(df_tmp.columns) == 0:\n",
    "        continue\n",
    "    df_tmp.columns = Columuns\n",
    "    df_tmp['Open Time']     = pd.to_datetime(df_tmp['Open Time']/1000, unit='s')\n",
    "    df_tmp['Close Time']    = pd.to_datetime(df_tmp['Close Time']/1000, unit='s')\n",
    "    df_tmp[numeric_columns] = df_tmp[numeric_columns].apply(pd.to_numeric, axis=1)\n",
    "    hf[USDTsymbol]          = pd.DataFrame(df_tmp, columns=Columuns)\n",
    "    #hf.append(USDTsymbol)\n",
    "    #hf[USDTsymbol].append(tmp)   \n",
    "#    if df_tmp ['Volume'].mean(axis='index')/BTCUSDT_Volume > 10:\n",
    "#        print (df_tmp ['Volume'].mean(axis='index')/BTCUSDT_Volume)\n",
    "#        hf.append(tmp)\n",
    "#        i += 1"
   ]
  },
  {
   "cell_type": "markdown",
   "metadata": {},
   "source": [
    "... with a certain Volume"
   ]
  },
  {
   "cell_type": "code",
   "execution_count": null,
   "metadata": {},
   "outputs": [],
   "source": [
    "tmp_mean_BTCUSDT = hf['BTCUSDT']['TB Quote Volume'].mean(axis='index')\n",
    "Big_Volume_Symbols = []\n",
    "level_of_volume_acceptance = 0.005\n",
    "i=0\n",
    "for USDTsymbol in hf.keys():\n",
    "    tmpMean = hf[USDTsymbol]['TB Quote Volume'].mean(axis='index')\n",
    "    if tmpMean/tmp_mean_BTCUSDT > level_of_volume_acceptance and len(hf[USDTsymbol]['TB Quote Volume']>0):\n",
    "        #print(i, \", \", USDTsymbol, \", \", hf[USDTsymbol]['TB Quote Volume'])\n",
    "        i+=1\n",
    "        Big_Volume_Symbols.append(USDTsymbol)"
   ]
  },
  {
   "cell_type": "markdown",
   "metadata": {},
   "source": [
    "Once we get the pairs, I retrive the datas."
   ]
  },
  {
   "cell_type": "code",
   "execution_count": null,
   "metadata": {},
   "outputs": [],
   "source": [
    "import requests\n",
    "import json\n",
    "import time\n",
    "import datetime as dt\n",
    "\n",
    "url = 'https://api.binance.com/api/v3/klines'\n",
    "\n",
    "Now = time.time() #timestamp\n",
    "data = {}\n",
    "for sym in Big_Volume_Symbols:\n",
    "    # interval = '1d'\n",
    "    interval = '1h'\n",
    "    # interval = '1m'\n",
    "    #31536000 seconds in a year\n",
    "#    start = str(int( (Now - 31536000)*1000 ) )\n",
    "    start = str(int( (Now - 2592000)*1000 ) )\n",
    "    # start = str(int( (Now - 160000)*1000 ) )\n",
    "    end = str(int(Now*1000))\n",
    "    par = {'symbol': sym, 'interval': interval, 'startTime': start, 'endTime': end}\n",
    "    data[sym] = pd.DataFrame(json.loads(requests.get(url, params= par).text))\n",
    "    #format columns name\n",
    "    if len(data[sym].columns)==0:\n",
    "        print(sym, \" issue = (data.columns)==0\")\n",
    "        continue\n",
    "    #ze create the columns\n",
    "    data[sym].columns = ['datetime', 'open', 'high', 'low', 'close', 'volume','close_time', 'qav', 'num_trades','taker_base_vol', 'taker_quote_vol', 'ignore']\n",
    "    #indexed on time\n",
    "    data[sym].index = [dt.datetime.fromtimestamp(x/1000.0) for x in data[sym].datetime]\n",
    "    data[sym]=data[sym].astype(float)\n"
   ]
  },
  {
   "cell_type": "markdown",
   "metadata": {},
   "source": [
    "https://stackoverflow.com/questions/6518811/interpolate-nan-values-in-a-numpy-array"
   ]
  },
  {
   "cell_type": "code",
   "execution_count": null,
   "metadata": {},
   "outputs": [],
   "source": [
    "def nan_helper(y):\n",
    "#    \"\"\"Helper to handle indices and logical indices of NaNs.\n",
    "\n",
    "#    Input:\n",
    "#        - y, 1d numpy array with possible NaNs\n",
    "#    Output:\n",
    "#        - nans, logical indices of NaNs\n",
    "#        - index, a function, with signature indices= index(logical_indices),\n",
    "#          to convert logical indices of NaNs to 'equivalent' indices\n",
    "#    Example:\n",
    "#        >>> # linear interpolation of NaNs\n",
    "#        >>> nans, x= nan_helper(y)\n",
    "#        >>> y[nans]= np.interp(x(nans), x(~nans), y[~nans])\n",
    "#    \"\"\"\n",
    "\n",
    "    return np.isnan(y), lambda z: z.to_numpy().nonzero()[0]\n",
    "\n",
    "def log_Transform (data):\n",
    "#    \"\"\"Helper to handle indices and logical indices of NaNs.\n",
    "\n",
    "#    Input:\n",
    "#        - data, 1d numpy array with possible NaNs\n",
    "#    Output:\n",
    "#        - log return, 1d\n",
    "#    Example:\n",
    "#        >>> log_return = log_Transform(data [sym].close)\n",
    "#    \"\"\"\n",
    "    log_return = np.log(data) - np.log(data.shift(1))\n",
    "    nans, x = nan_helper(log_return)\n",
    "    log_return[nans] = np.interp(x(nans), x(~nans), log_return[~nans])\n",
    "    return log_return\n"
   ]
  },
  {
   "cell_type": "markdown",
   "metadata": {},
   "source": [
    "We check for Unit Root with Augmented Dickey-Fuller test"
   ]
  },
  {
   "cell_type": "code",
   "execution_count": null,
   "metadata": {},
   "outputs": [
    {
     "name": "stdout",
     "output_type": "stream",
     "text": [
      "1 . Symbol =  BTCUSDT , p-value =  2.668580384583284e-06\n",
      "2 . Symbol =  ETHUSDT , p-value =  7.527815751929859e-07\n",
      "3 . Symbol =  BNBUSDT , p-value =  1.1670526594945855e-05\n",
      "4 . Symbol =  LTCUSDT , p-value =  2.2458493119720283e-05\n",
      "5 . Symbol =  XRPUSDT , p-value =  1.3153752295216493e-05\n",
      "6 . Symbol =  TRXUSDT , p-value =  1.2460815996901981e-09\n",
      "7 . Symbol =  ETCUSDT , p-value =  3.373955592881473e-07\n",
      "8 . Symbol =  USDCUSDT , p-value =  6.944559661301164e-21\n",
      "9 . Symbol =  LINKUSDT , p-value =  2.981449834062396e-08\n",
      "10 . Symbol =  WAVESUSDT , p-value =  4.5878018780487896e-08\n",
      "11 . Symbol =  MATICUSDT , p-value =  2.2879246474022565e-08\n",
      "12 . Symbol =  ATOMUSDT , p-value =  5.61351751413305e-09\n",
      "13 . Symbol =  FTMUSDT , p-value =  1.6991633279282677e-07\n",
      "14 . Symbol =  DOGEUSDT , p-value =  1.4242740875676292e-06\n",
      "15 . Symbol =  BUSDUSDT , p-value =  6.923324718149054e-08\n",
      "16 . Symbol =  EURUSDT , p-value =  1.7982571622882015e-10\n",
      "17 . Symbol =  SOLUSDT , p-value =  5.181518254116302e-07\n",
      "18 . Symbol =  MANAUSDT , p-value =  1.485363510796772e-07\n",
      "19 . Symbol =  SANDUSDT , p-value =  2.7451787006660472e-06\n",
      "20 . Symbol =  RUNEUSDT , p-value =  2.0999452526523942e-08\n",
      "21 . Symbol =  WINGUSDT , p-value =  7.478960416488117e-13\n",
      "22 . Symbol =  UNIUSDT , p-value =  7.796485766391516e-05\n",
      "23 . Symbol =  AVAXUSDT , p-value =  1.3453426097697268e-13\n",
      "24 . Symbol =  AAVEUSDT , p-value =  2.461445934162309e-05\n",
      "25 . Symbol =  NEARUSDT , p-value =  5.396894954534452e-07\n",
      "26 . Symbol =  FILUSDT , p-value =  2.2691351946095775e-09\n",
      "27 . Symbol =  UNFIUSDT , p-value =  2.619364707139417e-10\n",
      "28 . Symbol =  SHIBUSDT , p-value =  7.782378880301031e-08\n",
      "29 . Symbol =  BONDUSDT , p-value =  3.123380420535059e-20\n",
      "30 . Symbol =  DYDXUSDT , p-value =  3.624570390201943e-08\n",
      "31 . Symbol =  GALAUSDT , p-value =  1.4003107894491283e-07\n",
      "32 . Symbol =  VGXUSDT , p-value =  2.4318705430023786e-11\n",
      "33 . Symbol =  JASMYUSDT , p-value =  3.355984069835627e-08\n",
      "34 . Symbol =  GMTUSDT , p-value =  2.0183462438943596e-06\n",
      "35 . Symbol =  APEUSDT , p-value =  9.143586607865504e-07\n",
      "36 . Symbol =  LEVERUSDT , p-value =  1.9754850790857212e-07\n"
     ]
    }
   ],
   "source": [
    "from statsmodels.tsa.stattools import adfuller\n",
    "#https://www.statsmodels.org/stable/examples/notebooks/generated/stationarity_detrending_adf_kpss.html?highlight=adf\n",
    "#https://stackoverflow.com/questions/31287552/logarithmic-returns-in-pandas-dataframe\n",
    "\n",
    "pvalue = 0.0001\n",
    "i = 0\n",
    "statresult = {}\n",
    "dfoutput = {}\n",
    "for sym in Big_Volume_Symbols:\n",
    "    #We do a log-return\n",
    "    log_return = log_Transform(data [sym].close)\n",
    "    \n",
    "    #perform augmented Dickey-Fuller test\n",
    "    statresult[sym] = adfuller(log_return, autolag=\"AIC\")\n",
    "    dfoutput[sym] = pd.Series(\n",
    "        statresult[sym][0:4],\n",
    "        index=[\n",
    "            \"Test Statistic\",\n",
    "            \"p-value\",\n",
    "            \"#Lags Used\",\n",
    "            \"Number of Observations Used\",\n",
    "        ],\n",
    "    )\n",
    "    #We build the sub-series with the critical values\n",
    "    for key, value in statresult[sym][4].items():\n",
    "        dfoutput[sym][\"Critical Value (%s)\" % key] = value\n",
    "\n",
    "    #if dfoutput[sym][\"Critical Value (10%)\"] > dfoutput[sym]['Test Statistic'] :\n",
    "    if float (dfoutput[sym][\"p-value\"]) < pvalue :\n",
    "        i += 1\n",
    "        #print(dfoutput[sym])\n",
    "        print(i, \". Symbol = \", sym, \", p-value = \", float (dfoutput[sym][\"p-value\"]))"
   ]
  },
  {
   "cell_type": "markdown",
   "metadata": {},
   "source": [
    "https://nbviewer.org/github/mapsa/seminario-doc-2014/blob/master/cointegration-example.ipynb"
   ]
  },
  {
   "cell_type": "code",
   "execution_count": null,
   "metadata": {},
   "outputs": [],
   "source": [
    "from statsmodels.tsa.vector_ar.vecm import coint_johansen\n",
    "\n",
    "def get_johansen(y, p):\n",
    "\n",
    "        \"\"\"\n",
    "        Get the cointegration vectors at 95% level of significance\n",
    "        given by the trace statistic test.\n",
    "        \"\"\"\n",
    "\n",
    "        N, col = y.shape\n",
    "        jres = coint_johansen(y, 0, p)\n",
    "        trstat = jres.lr1                       # trace statistic\n",
    "        tsignf = jres.cvt                       # critical values\n",
    "\n",
    "        j=2\n",
    "        for i in range(col):\n",
    "            if trstat[i] > tsignf[i, j]:     # 0: 90%  1:95% 2: 99%\n",
    "                r = i + 1\n",
    "        jres.r = r\n",
    "        jres.evecr = jres.evec[:, :r]\n",
    "\n",
    "        return jres"
   ]
  },
  {
   "cell_type": "markdown",
   "metadata": {},
   "source": [
    "We now perform a test of Johansen Cointegration Test"
   ]
  },
  {
   "cell_type": "code",
   "execution_count": null,
   "metadata": {},
   "outputs": [
    {
     "name": "stdout",
     "output_type": "stream",
     "text": [
      "There are  3 cointegration vectors\n",
      "[[   1.            1.            1.        ]\n",
      " [ 162.80037829  -78.50578597   58.44995984]\n",
      " [-403.62233254  198.72639659  149.57607755]]\n"
     ]
    }
   ],
   "source": [
    "p = 1\n",
    "\n",
    "log_return_BTC = np.array (log_Transform(data ['BTCUSDT'].close))\n",
    "log_return_ETH = np.array (log_Transform(data ['ETHUSDT'].close))\n",
    "log_return_BNB = np.array (log_Transform(data ['BNBUSDT'].close))\n",
    "#log_return = np.array ( [log_return, np.array (log_Transform(data ['ETHUSDT'].close))] )\n",
    "y = pd.DataFrame(index=data['BTCUSDT'].index, data={'BTCUSDT': log_return_BTC, 'ETHUSDT': log_return_ETH, 'BNBUSDT': log_return_BNB} )\n",
    "#print (log_return)\n",
    "jres = get_johansen(y, p)\n",
    "\n",
    "print (\"There are \", jres.r, \"cointegration vectors\")\n",
    "\n",
    "v =  np.array ([np.ones(3), jres.evecr[:,0], jres.evecr[:,1]])\n",
    "M = np.asmatrix (v)\n",
    "print(v)\n",
    "#v3=jres.evec[:,2]  # v3 is not a cointegration vector"
   ]
  },
  {
   "cell_type": "code",
   "execution_count": null,
   "metadata": {},
   "outputs": [
    {
     "ename": "NameError",
     "evalue": "name 'v' is not defined",
     "output_type": "error",
     "traceback": [
      "\u001b[1;31m---------------------------------------------------------------------------\u001b[0m",
      "\u001b[1;31mNameError\u001b[0m                                 Traceback (most recent call last)",
      "\u001b[1;32mc:\\Users\\benig\\Documents\\Projects\\TradingBot\\Some Tries\\MySimulation.ipynb Cell 18\u001b[0m in \u001b[0;36m<cell line: 2>\u001b[1;34m()\u001b[0m\n\u001b[0;32m      <a href='vscode-notebook-cell:/c%3A/Users/benig/Documents/Projects/TradingBot/Some%20Tries/MySimulation.ipynb#ch0000017?line=0'>1</a>\u001b[0m \u001b[39m# If we apply vector v1 we get a I(0) time series\u001b[39;00m\n\u001b[1;32m----> <a href='vscode-notebook-cell:/c%3A/Users/benig/Documents/Projects/TradingBot/Some%20Tries/MySimulation.ipynb#ch0000017?line=1'>2</a>\u001b[0m \u001b[39mprint\u001b[39m (\u001b[39m\"\u001b[39m\u001b[39mv1 = \u001b[39m\u001b[39m\"\u001b[39m, v[\u001b[39m1\u001b[39m,:])\n\u001b[0;32m      <a href='vscode-notebook-cell:/c%3A/Users/benig/Documents/Projects/TradingBot/Some%20Tries/MySimulation.ipynb#ch0000017?line=2'>3</a>\u001b[0m BTC \u001b[39m=\u001b[39m np\u001b[39m.\u001b[39marray (data [\u001b[39m'\u001b[39m\u001b[39mBTCUSDT\u001b[39m\u001b[39m'\u001b[39m]\u001b[39m.\u001b[39mclose)\n\u001b[0;32m      <a href='vscode-notebook-cell:/c%3A/Users/benig/Documents/Projects/TradingBot/Some%20Tries/MySimulation.ipynb#ch0000017?line=3'>4</a>\u001b[0m ETH \u001b[39m=\u001b[39m np\u001b[39m.\u001b[39marray (data [\u001b[39m'\u001b[39m\u001b[39mETHUSDT\u001b[39m\u001b[39m'\u001b[39m]\u001b[39m.\u001b[39mclose)\n",
      "\u001b[1;31mNameError\u001b[0m: name 'v' is not defined"
     ]
    }
   ],
   "source": [
    "# If we apply vector v1 we get a I(0) time series\n",
    "print (\"v1 = \", v[1,:])\n",
    "BTC = np.array (data ['BTCUSDT'].close)\n",
    "ETH = np.array (data ['ETHUSDT'].close)\n",
    "BNB = np.array (data ['BNBUSDT'].close)\n",
    "price_series = pd.DataFrame(index=data['BTCUSDT'].index, data={'BTCUSDT': BTC, 'ETHUSDT': ETH, 'BNBUSDT': BNB} )\n",
    "spread_average = np.mean (np.dot(price_series, v[1,:]))\n",
    "spread_average *= np.ones(len(data['BTCUSDT'].index))\n",
    "spread = np.dot(price_series, v[1,:])\n",
    "\n",
    "plt.plot(data['BTCUSDT'].index, spread, data['BTCUSDT'].index, spread_average)\n",
    "plt.gcf().autofmt_xdate()\n",
    "plt.plot()"
   ]
  },
  {
   "cell_type": "markdown",
   "metadata": {},
   "source": [
    "We now perform a Stationarity Test (Dickey-Fuller)"
   ]
  },
  {
   "cell_type": "code",
   "execution_count": null,
   "metadata": {},
   "outputs": [],
   "source": [
    "def ADF(v, crit='5%', max_d=6, reg='n', autolag='AIC'):\n",
    "    \"\"\" Augmented Dickey Fuller test\n",
    "\n",
    "    Parameters\n",
    "    ----------\n",
    "    v: ndarray matrix\n",
    "        residuals matrix\n",
    "\n",
    "    Returns\n",
    "    -------\n",
    "    bool: boolean\n",
    "        true if v pass the test \n",
    "    \"\"\"\n",
    "\n",
    "    boolean = False\n",
    "\n",
    "    \n",
    "    adf = adfuller(v, max_d, reg, autolag)\n",
    "    print (adf)\n",
    "    if(adf[0] < adf[4][crit]):\n",
    "        pass\n",
    "    else:\n",
    "        boolean = True\n",
    "\n",
    "    return boolean"
   ]
  },
  {
   "cell_type": "code",
   "execution_count": null,
   "metadata": {},
   "outputs": [
    {
     "name": "stdout",
     "output_type": "stream",
     "text": [
      "(0.3322066341066208, 0.7834772066830222, 3, 496, {'1%': -2.570262404233871, '5%': -1.9415549543542014, '10%': -1.616295340070984}, 9516.085789933655)\n",
      "(-11.204714394406022, 2.716258316690927e-20, 2, 496, {'1%': -2.570262404233871, '5%': -1.9415549543542014, '10%': -1.616295340070984}, 9495.347656412172)\n",
      "YES, unit root hypothesis can't be rejected\n"
     ]
    }
   ],
   "source": [
    "if ADF(np.dot(price_series, v[1,:])) and not ADF(np.diff(np.dot(price_series, v[1,:]))):\n",
    "    print(\"YES, unit root hypothesis can't be rejected\")\n",
    "else:\n",
    "    print(\"NO, unit root hypothesis has been be rejected\")"
   ]
  },
  {
   "cell_type": "markdown",
   "metadata": {},
   "source": [
    "Ornstein-Ulhenbeck and Maximum Likelihood\n",
    "\n",
    "dSt = llambda*(mu-St) * dt+sigma * dWt\n",
    "\n",
    "see https://www.statisticshowto.com/wp-content/uploads/2016/01/Calibrating-the-Ornstein.pdf"
   ]
  },
  {
   "cell_type": "code",
   "execution_count": null,
   "metadata": {},
   "outputs": [],
   "source": [
    "def MLE_for_OU(x):\n",
    "    N = len(x)\n",
    "    Sx  = np.sum(x[0:N-2])\n",
    "    Sy  = np.sum(x[1:N-1])\n",
    "    xx  = np.power(x,2)\n",
    "    Sxx = np.sum(xx[0:N-2])\n",
    "    Syy = np.sum(xx[1:N-1]) \n",
    "    Sxy = sum(x[0:N-2] * x[1:N-1])\n",
    "    #86400==number of seconds in 24 hours\n",
    "    delta = 1.0/86400.0 #timestep\n",
    "\n",
    "    mu = (Sy*Sxx-Sx*Sxy)/(N*(Sxx-Sxy)-(Sx**2-Sx*Sy))\n",
    "    llambda = -1.0/delta*np.log((Sxy-mu*Sx-mu*Sy+N*mu**2)/(Sxx-2.0*mu*Sx+N*mu**2))\n",
    "    alpha = np.exp(-llambda*delta)\n",
    "    sigma_hat2 = 1.0/N*(Syy-2.0*alpha*Sxy+alpha**2.0*Sxx\n",
    "                - 2.0*mu*(1.0-alpha)*(Sy-alpha*Sx)+N*mu**2*(1.0-alpha)**2)\n",
    "    sigma = np.sqrt(sigma_hat2*2.0*llambda/(1.0-alpha**2))\n",
    "\n",
    "    return mu, llambda, sigma"
   ]
  },
  {
   "cell_type": "markdown",
   "metadata": {},
   "source": [
    "Another Calibration Method"
   ]
  },
  {
   "cell_type": "code",
   "execution_count": null,
   "metadata": {},
   "outputs": [],
   "source": [
    "from sklearn.linear_model import LinearRegression\n",
    "\n",
    "def estimate_OU_params(X_t):\n",
    "    \"\"\"\n",
    "    Estimate OU params from OLS regression.\n",
    "    - X_t is a 1D array.\n",
    "    Returns instance of OUParams.\n",
    "    \"\"\"\n",
    "    y = np.diff(X_t)\n",
    "    X = X_t[:-1].reshape(-1, 1)\n",
    "    reg = LinearRegression(fit_intercept=True)\n",
    "    reg.fit(X, y)\n",
    "    # regression coeficient and constant\n",
    "    llambda = -reg.coef_[0]\n",
    "    mu = reg.intercept_ / llambda\n",
    "    # residuals and their standard deviation\n",
    "    y_hat = reg.predict(X)\n",
    "    sigma = np.std(y - y_hat)\n",
    "    return mu, llambda, sigma"
   ]
  },
  {
   "cell_type": "markdown",
   "metadata": {},
   "source": [
    "More llambda is high more the process is mean reverting"
   ]
  },
  {
   "cell_type": "code",
   "execution_count": null,
   "metadata": {},
   "outputs": [
    {
     "name": "stdout",
     "output_type": "stream",
     "text": [
      "(mu, llambda, sigma)= 1.0855357786711273  , 20.785309937829684  , 0.5098880013413866\n",
      "(mu, llambda, sigma)= 0.9700152569247792  , 0.005422292885102866  , 0.0017347287225077648\n"
     ]
    }
   ],
   "source": [
    "spread = spread/max(spread) #renormalisation\n",
    "mu, llambda, sigma = MLE_for_OU (spread)\n",
    "print (\"(mu, llambda, sigma)=\", mu, \" ,\" , llambda, \" ,\" , sigma)\n",
    "\n",
    "mu2, llambda2, sigma2 = estimate_OU_params (spread)\n",
    "print (\"(mu, llambda, sigma)=\", mu2, \" ,\" , llambda2, \" ,\" , sigma2)\n"
   ]
  },
  {
   "cell_type": "markdown",
   "metadata": {},
   "source": [
    "Let s simulate an Ornstein Ulhenbeck"
   ]
  },
  {
   "cell_type": "code",
   "execution_count": null,
   "metadata": {},
   "outputs": [
    {
     "data": {
      "text/plain": [
       "(array([0.94 , 0.945, 0.95 , 0.955, 0.96 , 0.965, 0.97 , 0.975, 0.98 ,\n",
       "        0.985, 0.99 ]),\n",
       " [Text(0, 0, ''),\n",
       "  Text(0, 0, ''),\n",
       "  Text(0, 0, ''),\n",
       "  Text(0, 0, ''),\n",
       "  Text(0, 0, ''),\n",
       "  Text(0, 0, ''),\n",
       "  Text(0, 0, ''),\n",
       "  Text(0, 0, ''),\n",
       "  Text(0, 0, ''),\n",
       "  Text(0, 0, ''),\n",
       "  Text(0, 0, '')])"
      ]
     },
     "execution_count": 155,
     "metadata": {},
     "output_type": "execute_result"
    },
    {
     "data": {
      "image/png": "[encoded data removed]",
      "text/plain": [
       "<Figure size 1080x504 with 1 Axes>"
      ]
     },
     "metadata": {
      "needs_background": "light"
     },
     "output_type": "display_data"
    }
   ],
   "source": [
    "import OU as ou\n",
    "\n",
    "#OU_params = ou.OUParams(alpha=llambda, gamma=mu, beta=sigma)\n",
    "OU_params = ou.OUParams(alpha=llambda2, gamma=mu2, beta=sigma2)\n",
    "OU_proc = ou.get_OU_process(1_000, OU_params)\n",
    "OU_proc_average = np.mean (OU_proc)\n",
    "OU_proc_average = OU_proc_average*np.ones(len(OU_proc))\n",
    "#----------------------------------------------------\n",
    "# plot\n",
    "import matplotlib.pyplot as plt\n",
    "\n",
    "fig = plt.figure(figsize=(15, 7))\n",
    "\n",
    "title = \"Ornstein-Uhlenbeck process, \"\n",
    "title += r\"$\\lambda=$\"+str(float(llambda2))\n",
    "title += r\", $\\mu =$\"+str(float(mu2))\n",
    "title += r\" , $\\sigma =$ \"+str(float(sigma2))\n",
    "plt.plot(OU_proc)\n",
    "plt.plot(OU_proc_average)\n",
    "plt.gca().set_title(title, fontsize=15)\n",
    "plt.xticks(fontsize=15)\n",
    "plt.yticks(fontsize=15)"
   ]
  }
 ],
 "metadata": {
  "kernelspec": {
   "display_name": "Python 3.10.5 64-bit (windows store)",
   "language": "python",
   "name": "python3"
  },
  "language_info": {
   "codemirror_mode": {
    "name": "ipython",
    "version": 3
   },
   "file_extension": ".py",
   "mimetype": "text/x-python",
   "name": "python",
   "nbconvert_exporter": "python",
   "pygments_lexer": "ipython3",
   "version": "3.10.5"
  },
  "orig_nbformat": 4,
  "vscode": {
   "interpreter": {
    "hash": "dd5ace9b7b971c41ddf2088d839411091a5ca5585966eeb6135fcdd3ea42bda7"
   }
  }
 },
 "nbformat": 4,
 "nbformat_minor": 2
}
